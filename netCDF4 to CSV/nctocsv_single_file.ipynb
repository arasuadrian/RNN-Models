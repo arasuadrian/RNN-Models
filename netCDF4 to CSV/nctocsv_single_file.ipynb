{
  "nbformat": 4,
  "nbformat_minor": 0,
  "metadata": {
    "colab": {
      "name": "nctocsv_single_file.ipynb",
      "provenance": [],
      "collapsed_sections": []
    },
    "kernelspec": {
      "name": "python3",
      "display_name": "Python 3"
    },
    "language_info": {
      "name": "python"
    }
  },
  "cells": [
    {
      "cell_type": "code",
      "execution_count": null,
      "metadata": {
        "id": "jIHGTC2U53Af"
      },
      "outputs": [],
      "source": [
        "import netCDF4\n",
        "import pandas as pd"
      ]
    },
    {
      "cell_type": "code",
      "source": [
        "t_nc = 'ERA5_Temperature_data/1988.nc'  # Path of the netCDF4 file\n",
        "nc = netCDF4.Dataset(t_nc, mode='r')    # Read netCDF4 file"
      ],
      "metadata": {
        "id": "0AZB9A7x6CFH"
      },
      "execution_count": null,
      "outputs": []
    },
    {
      "cell_type": "code",
      "source": [
        "nc.variables.keys()"
      ],
      "metadata": {
        "id": "vBQCh7wB6Hd6"
      },
      "execution_count": null,
      "outputs": []
    },
    {
      "cell_type": "code",
      "source": [
        "lat = nc.variables['lat'][:]      #Stores all latitudes from netCDF4 file\n",
        "lon = nc.variables['lon'][:]      #Stores all longutudes from netCDF4 file\n",
        "time_var = nc.variables['time']   #Stores all time from netCDF4 file"
      ],
      "metadata": {
        "id": "b4uKyRAR6Joh"
      },
      "execution_count": null,
      "outputs": []
    },
    {
      "cell_type": "code",
      "source": [
        "dtime = netCDF4.num2date(time_var[:],time_var.units)"
      ],
      "metadata": {
        "id": "ZqQxoReE6J2a"
      },
      "execution_count": null,
      "outputs": []
    },
    {
      "cell_type": "code",
      "source": [
        "# Choose latitude and longitude of the location to write out\n",
        "lat_index = 9\n",
        "lon_index = 31"
      ],
      "metadata": {
        "id": "UMKRMU7x6J_b"
      },
      "execution_count": null,
      "outputs": []
    },
    {
      "cell_type": "code",
      "source": [
        "temperature = nc.variables['t'][:,lat_index,lon_index]  # Extracting time series temperature data for the chosen location\n",
        "temperature = pd.Series(nc.variables['t'][:,lat_index,lon_index], index=dtime) "
      ],
      "metadata": {
        "id": "Nh4La4JK6RhG"
      },
      "execution_count": null,
      "outputs": []
    },
    {
      "cell_type": "code",
      "source": [
        "temperature.to_csv('1988.csv',index=True, header=None)"
      ],
      "metadata": {
        "id": "rAqoTiJM6Yek"
      },
      "execution_count": null,
      "outputs": []
    }
  ]
}