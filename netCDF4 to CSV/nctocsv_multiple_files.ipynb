{
  "nbformat": 4,
  "nbformat_minor": 0,
  "metadata": {
    "colab": {
      "name": "nctocsv_multiple_files.ipynb",
      "provenance": []
    },
    "kernelspec": {
      "name": "python3",
      "display_name": "Python 3"
    },
    "language_info": {
      "name": "python"
    }
  },
  "cells": [
    {
      "cell_type": "code",
      "execution_count": null,
      "metadata": {
        "id": "QF3LMkLi69qI"
      },
      "outputs": [],
      "source": [
        "years = [\"1979\", \"1980\", \"1981\", \"1982\", \"1983\", \"1984\", \"1985\", \"1986\", \"1987\",\"1988\",\"1989\", \"1990\", \"1991\", \"1992\", \"1993\", \"1994\", \"1995\", \"1996\", \"1997\",\"1998\",\"1999\", \"2000\", \"2001\", \"2002\", \"2003\", \"2004\", \"2005\", \"2006\", \"2007\",\"2008\",\"2009\", \"2010\", \"2011\", \"2012\", \"2013\", \"2014\", \"2015\", \"2016\", \"2017\",\"2018\"]\n",
        "data = pd.DataFrame()"
      ]
    },
    {
      "cell_type": "code",
      "source": [
        "# Choose latitude and longitude of the location to write out\n",
        "lat_index = 9\n",
        "lon_index = 31"
      ],
      "metadata": {
        "id": "ostg1nsy7J9R"
      },
      "execution_count": null,
      "outputs": []
    },
    {
      "cell_type": "code",
      "source": [
        "for i in years:\n",
        "    dataset = f\"ERA5_Temperature_data/{i}.nc\" # ERA5 Temperature data for every year is named as year.nc.\n",
        "    # For eg. For the year 1979, the details are stored in a file 1979.nc\n",
        "    nc = netCDF4.Dataset(dataset, mode='r')\n",
        "    nc.variables.keys()\n",
        "    time_var = nc.variables['time']\n",
        "    dtime = netCDF4.num2date(time_var[:],time_var.units)\n",
        "    temperature = nc.variables['t'][:,lat_index,lon_index]\n",
        "    temperature = pd.Series(nc.variables['t'][:,lat_index,lon_index], index=dtime)\n",
        "    temperature.to_csv(f\"CSV_files/{i}.csv\",index=True, header=None)"
      ],
      "metadata": {
        "id": "PNBB0vzt7UQY"
      },
      "execution_count": null,
      "outputs": []
    },
    {
      "cell_type": "code",
      "source": [
        ""
      ],
      "metadata": {
        "id": "yZ6zxlNT7YdO"
      },
      "execution_count": null,
      "outputs": []
    }
  ]
}